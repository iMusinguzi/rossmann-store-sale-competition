{
 "cells": [
  {
   "cell_type": "code",
   "execution_count": 1,
   "metadata": {},
   "outputs": [],
   "source": [
    "import pandas as pd"
   ]
  },
  {
   "cell_type": "code",
   "execution_count": 2,
   "metadata": {},
   "outputs": [
    {
     "name": "stderr",
     "output_type": "stream",
     "text": [
      "C:\\Users\\Administrator\\Anaconda3\\lib\\site-packages\\IPython\\core\\interactiveshell.py:3058: DtypeWarning: Columns (7) have mixed types. Specify dtype option on import or set low_memory=False.\n",
      "  interactivity=interactivity, compiler=compiler, result=result)\n"
     ]
    }
   ],
   "source": [
    "df = pd.read_csv('C:/Users/Administrator/Desktop/github/Rossman/train.csv')"
   ]
  },
  {
   "cell_type": "code",
   "execution_count": 3,
   "metadata": {},
   "outputs": [
    {
     "data": {
      "text/plain": [
       "(1017209, 9)"
      ]
     },
     "execution_count": 3,
     "metadata": {},
     "output_type": "execute_result"
    }
   ],
   "source": [
    "df.shape"
   ]
  },
  {
   "cell_type": "code",
   "execution_count": 4,
   "metadata": {},
   "outputs": [
    {
     "data": {
      "text/plain": [
       "Index(['Store', 'DayOfWeek', 'Date', 'Sales', 'Customers', 'Open', 'Promo',\n",
       "       'StateHoliday', 'SchoolHoliday'],\n",
       "      dtype='object')"
      ]
     },
     "execution_count": 4,
     "metadata": {},
     "output_type": "execute_result"
    }
   ],
   "source": [
    "df.columns"
   ]
  },
  {
   "cell_type": "code",
   "execution_count": 5,
   "metadata": {},
   "outputs": [
    {
     "data": {
      "text/html": [
       "<div>\n",
       "<style scoped>\n",
       "    .dataframe tbody tr th:only-of-type {\n",
       "        vertical-align: middle;\n",
       "    }\n",
       "\n",
       "    .dataframe tbody tr th {\n",
       "        vertical-align: top;\n",
       "    }\n",
       "\n",
       "    .dataframe thead th {\n",
       "        text-align: right;\n",
       "    }\n",
       "</style>\n",
       "<table border=\"1\" class=\"dataframe\">\n",
       "  <thead>\n",
       "    <tr style=\"text-align: right;\">\n",
       "      <th></th>\n",
       "      <th>Store</th>\n",
       "      <th>DayOfWeek</th>\n",
       "      <th>Date</th>\n",
       "      <th>Sales</th>\n",
       "      <th>Customers</th>\n",
       "      <th>Open</th>\n",
       "      <th>Promo</th>\n",
       "      <th>StateHoliday</th>\n",
       "      <th>SchoolHoliday</th>\n",
       "    </tr>\n",
       "  </thead>\n",
       "  <tbody>\n",
       "    <tr>\n",
       "      <td>0</td>\n",
       "      <td>1</td>\n",
       "      <td>5</td>\n",
       "      <td>2015-07-31</td>\n",
       "      <td>5263</td>\n",
       "      <td>555</td>\n",
       "      <td>1</td>\n",
       "      <td>1</td>\n",
       "      <td>0</td>\n",
       "      <td>1</td>\n",
       "    </tr>\n",
       "    <tr>\n",
       "      <td>1</td>\n",
       "      <td>2</td>\n",
       "      <td>5</td>\n",
       "      <td>2015-07-31</td>\n",
       "      <td>6064</td>\n",
       "      <td>625</td>\n",
       "      <td>1</td>\n",
       "      <td>1</td>\n",
       "      <td>0</td>\n",
       "      <td>1</td>\n",
       "    </tr>\n",
       "    <tr>\n",
       "      <td>2</td>\n",
       "      <td>3</td>\n",
       "      <td>5</td>\n",
       "      <td>2015-07-31</td>\n",
       "      <td>8314</td>\n",
       "      <td>821</td>\n",
       "      <td>1</td>\n",
       "      <td>1</td>\n",
       "      <td>0</td>\n",
       "      <td>1</td>\n",
       "    </tr>\n",
       "    <tr>\n",
       "      <td>3</td>\n",
       "      <td>4</td>\n",
       "      <td>5</td>\n",
       "      <td>2015-07-31</td>\n",
       "      <td>13995</td>\n",
       "      <td>1498</td>\n",
       "      <td>1</td>\n",
       "      <td>1</td>\n",
       "      <td>0</td>\n",
       "      <td>1</td>\n",
       "    </tr>\n",
       "    <tr>\n",
       "      <td>4</td>\n",
       "      <td>5</td>\n",
       "      <td>5</td>\n",
       "      <td>2015-07-31</td>\n",
       "      <td>4822</td>\n",
       "      <td>559</td>\n",
       "      <td>1</td>\n",
       "      <td>1</td>\n",
       "      <td>0</td>\n",
       "      <td>1</td>\n",
       "    </tr>\n",
       "  </tbody>\n",
       "</table>\n",
       "</div>"
      ],
      "text/plain": [
       "   Store  DayOfWeek        Date  Sales  Customers  Open  Promo StateHoliday  \\\n",
       "0      1          5  2015-07-31   5263        555     1      1            0   \n",
       "1      2          5  2015-07-31   6064        625     1      1            0   \n",
       "2      3          5  2015-07-31   8314        821     1      1            0   \n",
       "3      4          5  2015-07-31  13995       1498     1      1            0   \n",
       "4      5          5  2015-07-31   4822        559     1      1            0   \n",
       "\n",
       "   SchoolHoliday  \n",
       "0              1  \n",
       "1              1  \n",
       "2              1  \n",
       "3              1  \n",
       "4              1  "
      ]
     },
     "execution_count": 5,
     "metadata": {},
     "output_type": "execute_result"
    }
   ],
   "source": [
    "df.head()"
   ]
  },
  {
   "cell_type": "code",
   "execution_count": 6,
   "metadata": {},
   "outputs": [],
   "source": [
    "store = pd.read_csv('C:/Users/Administrator/Desktop/github/Rossman/store.csv')"
   ]
  },
  {
   "cell_type": "code",
   "execution_count": 7,
   "metadata": {},
   "outputs": [
    {
     "data": {
      "text/plain": [
       "(1115, 10)"
      ]
     },
     "execution_count": 7,
     "metadata": {},
     "output_type": "execute_result"
    }
   ],
   "source": [
    "store.shape"
   ]
  },
  {
   "cell_type": "code",
   "execution_count": 8,
   "metadata": {},
   "outputs": [
    {
     "data": {
      "text/plain": [
       "Index(['Store', 'StoreType', 'Assortment', 'CompetitionDistance',\n",
       "       'CompetitionOpenSinceMonth', 'CompetitionOpenSinceYear', 'Promo2',\n",
       "       'Promo2SinceWeek', 'Promo2SinceYear', 'PromoInterval'],\n",
       "      dtype='object')"
      ]
     },
     "execution_count": 8,
     "metadata": {},
     "output_type": "execute_result"
    }
   ],
   "source": [
    "store.columns"
   ]
  },
  {
   "cell_type": "code",
   "execution_count": 9,
   "metadata": {},
   "outputs": [
    {
     "data": {
      "text/html": [
       "<div>\n",
       "<style scoped>\n",
       "    .dataframe tbody tr th:only-of-type {\n",
       "        vertical-align: middle;\n",
       "    }\n",
       "\n",
       "    .dataframe tbody tr th {\n",
       "        vertical-align: top;\n",
       "    }\n",
       "\n",
       "    .dataframe thead th {\n",
       "        text-align: right;\n",
       "    }\n",
       "</style>\n",
       "<table border=\"1\" class=\"dataframe\">\n",
       "  <thead>\n",
       "    <tr style=\"text-align: right;\">\n",
       "      <th></th>\n",
       "      <th>Store</th>\n",
       "      <th>StoreType</th>\n",
       "      <th>Assortment</th>\n",
       "      <th>CompetitionDistance</th>\n",
       "      <th>CompetitionOpenSinceMonth</th>\n",
       "      <th>CompetitionOpenSinceYear</th>\n",
       "      <th>Promo2</th>\n",
       "      <th>Promo2SinceWeek</th>\n",
       "      <th>Promo2SinceYear</th>\n",
       "      <th>PromoInterval</th>\n",
       "    </tr>\n",
       "  </thead>\n",
       "  <tbody>\n",
       "    <tr>\n",
       "      <td>0</td>\n",
       "      <td>1</td>\n",
       "      <td>c</td>\n",
       "      <td>a</td>\n",
       "      <td>1270.0</td>\n",
       "      <td>9.0</td>\n",
       "      <td>2008.0</td>\n",
       "      <td>0</td>\n",
       "      <td>NaN</td>\n",
       "      <td>NaN</td>\n",
       "      <td>NaN</td>\n",
       "    </tr>\n",
       "    <tr>\n",
       "      <td>1</td>\n",
       "      <td>2</td>\n",
       "      <td>a</td>\n",
       "      <td>a</td>\n",
       "      <td>570.0</td>\n",
       "      <td>11.0</td>\n",
       "      <td>2007.0</td>\n",
       "      <td>1</td>\n",
       "      <td>13.0</td>\n",
       "      <td>2010.0</td>\n",
       "      <td>Jan,Apr,Jul,Oct</td>\n",
       "    </tr>\n",
       "    <tr>\n",
       "      <td>2</td>\n",
       "      <td>3</td>\n",
       "      <td>a</td>\n",
       "      <td>a</td>\n",
       "      <td>14130.0</td>\n",
       "      <td>12.0</td>\n",
       "      <td>2006.0</td>\n",
       "      <td>1</td>\n",
       "      <td>14.0</td>\n",
       "      <td>2011.0</td>\n",
       "      <td>Jan,Apr,Jul,Oct</td>\n",
       "    </tr>\n",
       "    <tr>\n",
       "      <td>3</td>\n",
       "      <td>4</td>\n",
       "      <td>c</td>\n",
       "      <td>c</td>\n",
       "      <td>620.0</td>\n",
       "      <td>9.0</td>\n",
       "      <td>2009.0</td>\n",
       "      <td>0</td>\n",
       "      <td>NaN</td>\n",
       "      <td>NaN</td>\n",
       "      <td>NaN</td>\n",
       "    </tr>\n",
       "    <tr>\n",
       "      <td>4</td>\n",
       "      <td>5</td>\n",
       "      <td>a</td>\n",
       "      <td>a</td>\n",
       "      <td>29910.0</td>\n",
       "      <td>4.0</td>\n",
       "      <td>2015.0</td>\n",
       "      <td>0</td>\n",
       "      <td>NaN</td>\n",
       "      <td>NaN</td>\n",
       "      <td>NaN</td>\n",
       "    </tr>\n",
       "  </tbody>\n",
       "</table>\n",
       "</div>"
      ],
      "text/plain": [
       "   Store StoreType Assortment  CompetitionDistance  CompetitionOpenSinceMonth  \\\n",
       "0      1         c          a               1270.0                        9.0   \n",
       "1      2         a          a                570.0                       11.0   \n",
       "2      3         a          a              14130.0                       12.0   \n",
       "3      4         c          c                620.0                        9.0   \n",
       "4      5         a          a              29910.0                        4.0   \n",
       "\n",
       "   CompetitionOpenSinceYear  Promo2  Promo2SinceWeek  Promo2SinceYear  \\\n",
       "0                    2008.0       0              NaN              NaN   \n",
       "1                    2007.0       1             13.0           2010.0   \n",
       "2                    2006.0       1             14.0           2011.0   \n",
       "3                    2009.0       0              NaN              NaN   \n",
       "4                    2015.0       0              NaN              NaN   \n",
       "\n",
       "     PromoInterval  \n",
       "0              NaN  \n",
       "1  Jan,Apr,Jul,Oct  \n",
       "2  Jan,Apr,Jul,Oct  \n",
       "3              NaN  \n",
       "4              NaN  "
      ]
     },
     "execution_count": 9,
     "metadata": {},
     "output_type": "execute_result"
    }
   ],
   "source": [
    "store.head()"
   ]
  },
  {
   "cell_type": "markdown",
   "metadata": {},
   "source": [
    "## Data Dictionary\n",
    "\n",
    "Most of the fields are self-explanatory. The following are descriptions for those that aren't.\n",
    "\n",
    "`Id` - an Id that represents a (Store, Date) duple within the test set\n",
    "\n",
    "`Store` - a unique Id for each store\n",
    "\n",
    "`Sales` - the turnover for any given day (this is what you are predicting)\n",
    "\n",
    "`Customers` - the number of customers on a given day\n",
    "\n",
    "`Open` - an indicator for whether the store was open: 0 = closed, 1 = open\n",
    "\n",
    "`StateHoliday` - indicates a state holiday. Normally all stores, with few exceptions, are closed on state holidays. Note that all schools are closed on public holidays and weekends. a = public holiday, b = Easter holiday, c = Christmas, 0 = None\n",
    "\n",
    "`SchoolHoliday` - indicates if the (Store, Date) was affected by the closure of public schools\n",
    "\n",
    "`StoreType` - differentiates between 4 different store models: a, b, c, d\n",
    "\n",
    "`Assortment` - describes an assortment level: a = basic, b = extra, c = extended\n",
    "\n",
    "`CompetitionDistance` - distance in meters to the nearest competitor store\n",
    "\n",
    "`CompetitionOpenSince[Month/Year]` - gives the approximate year and month of the time the nearest competitor was opened\n",
    "\n",
    "`Promo` - indicates whether a store is running a promo on that day\n",
    "\n",
    "`Promo2`- Promo2 is a continuing and consecutive promotion for some stores: 0 = store is not participating, 1 = store is participating\n",
    "\n",
    "`Promo2Since[Year/Week]` - describes the year and calendar week when the store started participating in Promo2\n",
    "\n",
    "`PromoInterval` - describes the consecutive intervals Promo2 is started, naming the months the promotion is started anew. E.g. \"Feb,May,Aug,Nov\" means each round starts in February, May, August, November of any given year for that store"
   ]
  },
  {
   "cell_type": "code",
   "execution_count": 10,
   "metadata": {},
   "outputs": [
    {
     "data": {
      "text/plain": [
       "(1017209, 18)"
      ]
     },
     "execution_count": 10,
     "metadata": {},
     "output_type": "execute_result"
    }
   ],
   "source": [
    "# merge train and store to have all data points together\n",
    "df_new = df.merge(store,on=['Store'], how='inner')\n",
    "df_new.shape"
   ]
  },
  {
   "cell_type": "code",
   "execution_count": 11,
   "metadata": {},
   "outputs": [
    {
     "data": {
      "text/plain": [
       "Index(['Store', 'DayOfWeek', 'Date', 'Sales', 'Customers', 'Open', 'Promo',\n",
       "       'StateHoliday', 'SchoolHoliday', 'StoreType', 'Assortment',\n",
       "       'CompetitionDistance', 'CompetitionOpenSinceMonth',\n",
       "       'CompetitionOpenSinceYear', 'Promo2', 'Promo2SinceWeek',\n",
       "       'Promo2SinceYear', 'PromoInterval'],\n",
       "      dtype='object')"
      ]
     },
     "execution_count": 11,
     "metadata": {},
     "output_type": "execute_result"
    }
   ],
   "source": [
    "df_new.columns"
   ]
  },
  {
   "cell_type": "code",
   "execution_count": 12,
   "metadata": {},
   "outputs": [
    {
     "name": "stdout",
     "output_type": "stream",
     "text": [
      "Number of Stores: 1115\n"
     ]
    }
   ],
   "source": [
    "print('Number of Stores:',len(df_new['Store'].unique()))"
   ]
  },
  {
   "cell_type": "code",
   "execution_count": 13,
   "metadata": {},
   "outputs": [
    {
     "name": "stdout",
     "output_type": "stream",
     "text": [
      "Number of Days: 942\n"
     ]
    }
   ],
   "source": [
    "print('Number of Days:',len(df_new['Date'].unique()))"
   ]
  },
  {
   "cell_type": "code",
   "execution_count": 14,
   "metadata": {},
   "outputs": [
    {
     "name": "stdout",
     "output_type": "stream",
     "text": [
      "Average daily sales of all stores: 5773.82\n"
     ]
    }
   ],
   "source": [
    "print('Average daily sales of all stores:',round(df_new['Sales'].mean(),2))"
   ]
  },
  {
   "cell_type": "code",
   "execution_count": 15,
   "metadata": {},
   "outputs": [
    {
     "data": {
      "text/plain": [
       "Store                          int64\n",
       "DayOfWeek                      int64\n",
       "Date                          object\n",
       "Sales                          int64\n",
       "Customers                      int64\n",
       "Open                           int64\n",
       "Promo                          int64\n",
       "StateHoliday                  object\n",
       "SchoolHoliday                  int64\n",
       "StoreType                     object\n",
       "Assortment                    object\n",
       "CompetitionDistance          float64\n",
       "CompetitionOpenSinceMonth    float64\n",
       "CompetitionOpenSinceYear     float64\n",
       "Promo2                         int64\n",
       "Promo2SinceWeek              float64\n",
       "Promo2SinceYear              float64\n",
       "PromoInterval                 object\n",
       "dtype: object"
      ]
     },
     "execution_count": 15,
     "metadata": {},
     "output_type": "execute_result"
    }
   ],
   "source": [
    "df_new.dtypes"
   ]
  },
  {
   "cell_type": "code",
   "execution_count": 16,
   "metadata": {},
   "outputs": [
    {
     "data": {
      "text/plain": [
       "5    145845\n",
       "4    145845\n",
       "3    145665\n",
       "2    145664\n",
       "7    144730\n",
       "6    144730\n",
       "1    144730\n",
       "Name: DayOfWeek, dtype: int64"
      ]
     },
     "execution_count": 16,
     "metadata": {},
     "output_type": "execute_result"
    }
   ],
   "source": [
    "df_new['DayOfWeek'].value_counts()"
   ]
  },
  {
   "cell_type": "code",
   "execution_count": 17,
   "metadata": {},
   "outputs": [],
   "source": [
    "#Lets extract all date properties from datetime datatype\n",
    "import numpy as np"
   ]
  },
  {
   "cell_type": "code",
   "execution_count": 18,
   "metadata": {},
   "outputs": [
    {
     "name": "stdout",
     "output_type": "stream",
     "text": [
      "        Date  Year  Month  Day  Week  Quarter  Season\n",
      "0 2015-07-31  2015      7   31    31        3  Summer\n",
      "1 2015-07-30  2015      7   30    31        3  Summer\n",
      "2 2015-07-29  2015      7   29    31        3  Summer\n",
      "3 2015-07-28  2015      7   28    31        3  Summer\n",
      "4 2015-07-27  2015      7   27    31        3  Summer\n"
     ]
    }
   ],
   "source": [
    "df_new['Date'] = pd.to_datetime(df_new['Date'],infer_datetime_format=True)\n",
    "df_new['Month'] = df_new['Date'].dt.month\n",
    "df_new['Quarter'] = df_new['Date'].dt.quarter\n",
    "df_new['Year'] = df_new['Date'].dt.year\n",
    "df_new['Day'] = df_new['Date'].dt.day\n",
    "df_new['Week'] = df_new['Date'].dt.week\n",
    "\n",
    "df_new['Season'] = np.where(df_new['Month'].isin([3,4,5]),'Spring',\n",
    "                           np.where(df_new['Month'].isin([6,7,8]),'Summer',\n",
    "                                   np.where(df_new['Month'].isin([9,10,11]),'Fall',\n",
    "                                           np.where(df_new['Month'].isin([12,1,2]),\n",
    "                                           'Winter','None'))))\n",
    "\n",
    "print(df_new[['Date','Year','Month','Day','Week','Quarter','Season']].head())"
   ]
  },
  {
   "cell_type": "code",
   "execution_count": 19,
   "metadata": {},
   "outputs": [
    {
     "data": {
      "text/plain": [
       "Index(['Store', 'DayOfWeek', 'Date', 'Sales', 'Customers', 'Open', 'Promo',\n",
       "       'StateHoliday', 'SchoolHoliday', 'StoreType', 'Assortment',\n",
       "       'CompetitionDistance', 'CompetitionOpenSinceMonth',\n",
       "       'CompetitionOpenSinceYear', 'Promo2', 'Promo2SinceWeek',\n",
       "       'Promo2SinceYear', 'PromoInterval', 'Month', 'Quarter', 'Year', 'Day',\n",
       "       'Week', 'Season'],\n",
       "      dtype='object')"
      ]
     },
     "execution_count": 19,
     "metadata": {},
     "output_type": "execute_result"
    }
   ],
   "source": [
    "df_new.columns"
   ]
  },
  {
   "cell_type": "code",
   "execution_count": 20,
   "metadata": {},
   "outputs": [
    {
     "data": {
      "image/png": "[encoded data removed]",
      "text/plain": [
       "<Figure size 1080x576 with 1 Axes>"
      ]
     },
     "metadata": {
      "needs_background": "light"
     },
     "output_type": "display_data"
    }
   ],
   "source": [
    "#Visualizing\n",
    "import matplotlib.pyplot as plt\n",
    "%matplotlib inline\n",
    "\n",
    "#histogram to study the daily sales for the stores\n",
    "plt.figure(figsize=(15,8))\n",
    "plt.hist(df_new['Sales'])\n",
    "plt.title('Store Sales')\n",
    "plt.xlabel('bins')\n",
    "plt.xlabel('Frequency')\n",
    "plt.show()"
   ]
  },
  {
   "cell_type": "code",
   "execution_count": 21,
   "metadata": {},
   "outputs": [
    {
     "data": {
      "text/plain": [
       "array([[<matplotlib.axes._subplots.AxesSubplot object at 0x000002130053A188>,\n",
       "        <matplotlib.axes._subplots.AxesSubplot object at 0x000002130057F388>,\n",
       "        <matplotlib.axes._subplots.AxesSubplot object at 0x00000213005BAE88>,\n",
       "        <matplotlib.axes._subplots.AxesSubplot object at 0x00000213005EF048>],\n",
       "       [<matplotlib.axes._subplots.AxesSubplot object at 0x0000021300622E48>,\n",
       "        <matplotlib.axes._subplots.AxesSubplot object at 0x000002130065BF48>,\n",
       "        <matplotlib.axes._subplots.AxesSubplot object at 0x000002130069A088>,\n",
       "        <matplotlib.axes._subplots.AxesSubplot object at 0x00000213006D1188>],\n",
       "       [<matplotlib.axes._subplots.AxesSubplot object at 0x00000213006D7D48>,\n",
       "        <matplotlib.axes._subplots.AxesSubplot object at 0x0000021300711F08>,\n",
       "        <matplotlib.axes._subplots.AxesSubplot object at 0x000002130077C508>,\n",
       "        <matplotlib.axes._subplots.AxesSubplot object at 0x0000021300540288>],\n",
       "       [<matplotlib.axes._subplots.AxesSubplot object at 0x00000213004D9908>,\n",
       "        <matplotlib.axes._subplots.AxesSubplot object at 0x00000213004F5508>,\n",
       "        <matplotlib.axes._subplots.AxesSubplot object at 0x00000213007E9608>,\n",
       "        <matplotlib.axes._subplots.AxesSubplot object at 0x0000021303831748>],\n",
       "       [<matplotlib.axes._subplots.AxesSubplot object at 0x000002130386A888>,\n",
       "        <matplotlib.axes._subplots.AxesSubplot object at 0x00000213038A3888>,\n",
       "        <matplotlib.axes._subplots.AxesSubplot object at 0x00000213038DC988>,\n",
       "        <matplotlib.axes._subplots.AxesSubplot object at 0x0000021303914B88>]],\n",
       "      dtype=object)"
      ]
     },
     "execution_count": 21,
     "metadata": {},
     "output_type": "execute_result"
    },
    {
     "data": {
      "image/png": "[encoded data removed]",
      "text/plain": [
       "<Figure size 1440x720 with 20 Axes>"
      ]
     },
     "metadata": {
      "needs_background": "light"
     },
     "output_type": "display_data"
    }
   ],
   "source": [
    "#Use the histgram function provided by pandas \n",
    "#Function returns a cross-tab histogram plot for all numeric columns in the data\n",
    "df_new.hist(figsize=(20,10))"
   ]
  },
  {
   "cell_type": "code",
   "execution_count": 22,
   "metadata": {},
   "outputs": [
    {
     "data": {
      "text/plain": [
       "Store                         0.000000\n",
       "DayOfWeek                     0.000000\n",
       "Date                          0.000000\n",
       "Sales                         0.000000\n",
       "Customers                     0.000000\n",
       "Open                          0.000000\n",
       "Promo                         0.000000\n",
       "StateHoliday                  0.000000\n",
       "SchoolHoliday                 0.000000\n",
       "StoreType                     0.000000\n",
       "Assortment                    0.000000\n",
       "CompetitionDistance           0.259730\n",
       "CompetitionOpenSinceMonth    31.787764\n",
       "CompetitionOpenSinceYear     31.787764\n",
       "Promo2                        0.000000\n",
       "Promo2SinceWeek              49.943620\n",
       "Promo2SinceYear              49.943620\n",
       "PromoInterval                49.943620\n",
       "Month                         0.000000\n",
       "Quarter                       0.000000\n",
       "Year                          0.000000\n",
       "Day                           0.000000\n",
       "Week                          0.000000\n",
       "Season                        0.000000\n",
       "dtype: float64"
      ]
     },
     "execution_count": 22,
     "metadata": {},
     "output_type": "execute_result"
    }
   ],
   "source": [
    "#lets check for the number of missing data points if any\n",
    "\n",
    "df_new.isnull().sum()/df_new.shape[0] * 100"
   ]
  },
  {
   "cell_type": "code",
   "execution_count": 23,
   "metadata": {},
   "outputs": [],
   "source": [
    "#replacing nulls with mode in the CompetitionDistance\n",
    "df_new['CompetitionDistance'].fillna(df_new['CompetitionDistance'].mode()[0], inplace=True)"
   ]
  },
  {
   "cell_type": "code",
   "execution_count": 24,
   "metadata": {},
   "outputs": [
    {
     "data": {
      "text/plain": [
       "0     1270.0\n",
       "1     1270.0\n",
       "2     1270.0\n",
       "3     1270.0\n",
       "4     1270.0\n",
       "       ...  \n",
       "95    1270.0\n",
       "96    1270.0\n",
       "97    1270.0\n",
       "98    1270.0\n",
       "99    1270.0\n",
       "Name: CompetitionDistance, Length: 100, dtype: float64"
      ]
     },
     "execution_count": 24,
     "metadata": {},
     "output_type": "execute_result"
    }
   ],
   "source": [
    "# lets check if we still see null for the column\n",
    "df_new['CompetitionDistance'].head(100)"
   ]
  },
  {
   "cell_type": "code",
   "execution_count": 25,
   "metadata": {},
   "outputs": [],
   "source": [
    "df_new['CompetitionDistance']=df_new['CompetitionDistance'].fillna(df_new['CompetitionDistance'].mode()[0])"
   ]
  },
  {
   "cell_type": "code",
   "execution_count": 26,
   "metadata": {},
   "outputs": [
    {
     "data": {
      "text/plain": [
       "0.0"
      ]
     },
     "execution_count": 26,
     "metadata": {},
     "output_type": "execute_result"
    }
   ],
   "source": [
    "df_new['CompetitionDistance'].isnull().sum()/df_new.shape[0]*100"
   ]
  },
  {
   "cell_type": "markdown",
   "metadata": {},
   "source": [
    "Understanding the categorical Features"
   ]
  },
  {
   "cell_type": "code",
   "execution_count": 27,
   "metadata": {},
   "outputs": [
    {
     "data": {
      "image/png": "[encoded data removed]",
      "text/plain": [
       "<Figure size 432x288 with 1 Axes>"
      ]
     },
     "metadata": {},
     "output_type": "display_data"
    }
   ],
   "source": [
    "import seaborn as sns\n",
    "sns.set(style='whitegrid')\n",
    "#Create the bar plot for Average Sales across different Seasons\n",
    "ax = sns.barplot(x='Season', y='Sales', data=df_new)"
   ]
  },
  {
   "cell_type": "code",
   "execution_count": 28,
   "metadata": {},
   "outputs": [
    {
     "data": {
      "image/png": "[encoded data removed]",
      "text/plain": [
       "<Figure size 432x288 with 1 Axes>"
      ]
     },
     "metadata": {},
     "output_type": "display_data"
    }
   ],
   "source": [
    "#Create the bar plot for Average Sales across different Assortments\n",
    "ax = sns.barplot(x='Assortment',y='Sales',data=df_new)"
   ]
  },
  {
   "cell_type": "code",
   "execution_count": 29,
   "metadata": {},
   "outputs": [
    {
     "data": {
      "image/png": "[encoded data removed]",
      "text/plain": [
       "<Figure size 432x288 with 1 Axes>"
      ]
     },
     "metadata": {},
     "output_type": "display_data"
    }
   ],
   "source": [
    "#Create the bar plot for Average Sales across different Store Types\n",
    "ax = sns.barplot(x='StoreType', y='Sales',data=df_new)"
   ]
  },
  {
   "cell_type": "code",
   "execution_count": 30,
   "metadata": {},
   "outputs": [
    {
     "data": {
      "image/png": "[encoded data removed]",
      "text/plain": [
       "<Figure size 432x288 with 1 Axes>"
      ]
     },
     "metadata": {},
     "output_type": "display_data"
    }
   ],
   "source": [
    "ax = sns.barplot(x='Season',y='Sales',data=df_new,estimator=np.size)"
   ]
  },
  {
   "cell_type": "code",
   "execution_count": 31,
   "metadata": {},
   "outputs": [
    {
     "data": {
      "image/png": "[encoded data removed]",
      "text/plain": [
       "<Figure size 432x288 with 1 Axes>"
      ]
     },
     "metadata": {},
     "output_type": "display_data"
    }
   ],
   "source": [
    "ax = sns.barplot(x='Assortment',y='Sales',data=df_new,estimator=np.size)"
   ]
  },
  {
   "cell_type": "code",
   "execution_count": 32,
   "metadata": {},
   "outputs": [
    {
     "data": {
      "image/png": "[encoded data removed]",
      "text/plain": [
       "<Figure size 432x288 with 1 Axes>"
      ]
     },
     "metadata": {},
     "output_type": "display_data"
    }
   ],
   "source": [
    "ax = sns.barplot(x='StoreType',y='Sales',data=df_new, estimator=np.size)"
   ]
  },
  {
   "cell_type": "markdown",
   "metadata": {},
   "source": [
    "One hot encoding"
   ]
  },
  {
   "cell_type": "code",
   "execution_count": 33,
   "metadata": {},
   "outputs": [
    {
     "name": "stderr",
     "output_type": "stream",
     "text": [
      "C:\\Users\\Administrator\\Anaconda3\\lib\\site-packages\\sklearn\\preprocessing\\_encoders.py:415: FutureWarning: The handling of integer data will change in version 0.22. Currently, the categories are determined based on the range [0, max(values)], while in the future they will be determined based on the unique values.\n",
      "If you want the future behaviour and silence this warning, you can specify \"categories='auto'\".\n",
      "In case you used a LabelEncoder before this OneHotEncoder to convert the categories to integers, then you can now use the OneHotEncoder directly.\n",
      "  warnings.warn(msg, FutureWarning)\n",
      "C:\\Users\\Administrator\\Anaconda3\\lib\\site-packages\\sklearn\\preprocessing\\_encoders.py:415: FutureWarning: The handling of integer data will change in version 0.22. Currently, the categories are determined based on the range [0, max(values)], while in the future they will be determined based on the unique values.\n",
      "If you want the future behaviour and silence this warning, you can specify \"categories='auto'\".\n",
      "In case you used a LabelEncoder before this OneHotEncoder to convert the categories to integers, then you can now use the OneHotEncoder directly.\n",
      "  warnings.warn(msg, FutureWarning)\n",
      "C:\\Users\\Administrator\\Anaconda3\\lib\\site-packages\\sklearn\\preprocessing\\_encoders.py:415: FutureWarning: The handling of integer data will change in version 0.22. Currently, the categories are determined based on the range [0, max(values)], while in the future they will be determined based on the unique values.\n",
      "If you want the future behaviour and silence this warning, you can specify \"categories='auto'\".\n",
      "In case you used a LabelEncoder before this OneHotEncoder to convert the categories to integers, then you can now use the OneHotEncoder directly.\n",
      "  warnings.warn(msg, FutureWarning)\n",
      "C:\\Users\\Administrator\\Anaconda3\\lib\\site-packages\\sklearn\\preprocessing\\_encoders.py:415: FutureWarning: The handling of integer data will change in version 0.22. Currently, the categories are determined based on the range [0, max(values)], while in the future they will be determined based on the unique values.\n",
      "If you want the future behaviour and silence this warning, you can specify \"categories='auto'\".\n",
      "In case you used a LabelEncoder before this OneHotEncoder to convert the categories to integers, then you can now use the OneHotEncoder directly.\n",
      "  warnings.warn(msg, FutureWarning)\n",
      "C:\\Users\\Administrator\\Anaconda3\\lib\\site-packages\\sklearn\\preprocessing\\_encoders.py:415: FutureWarning: The handling of integer data will change in version 0.22. Currently, the categories are determined based on the range [0, max(values)], while in the future they will be determined based on the unique values.\n",
      "If you want the future behaviour and silence this warning, you can specify \"categories='auto'\".\n",
      "In case you used a LabelEncoder before this OneHotEncoder to convert the categories to integers, then you can now use the OneHotEncoder directly.\n",
      "  warnings.warn(msg, FutureWarning)\n",
      "C:\\Users\\Administrator\\Anaconda3\\lib\\site-packages\\sklearn\\preprocessing\\_encoders.py:415: FutureWarning: The handling of integer data will change in version 0.22. Currently, the categories are determined based on the range [0, max(values)], while in the future they will be determined based on the unique values.\n",
      "If you want the future behaviour and silence this warning, you can specify \"categories='auto'\".\n",
      "In case you used a LabelEncoder before this OneHotEncoder to convert the categories to integers, then you can now use the OneHotEncoder directly.\n",
      "  warnings.warn(msg, FutureWarning)\n",
      "C:\\Users\\Administrator\\Anaconda3\\lib\\site-packages\\sklearn\\preprocessing\\_encoders.py:415: FutureWarning: The handling of integer data will change in version 0.22. Currently, the categories are determined based on the range [0, max(values)], while in the future they will be determined based on the unique values.\n",
      "If you want the future behaviour and silence this warning, you can specify \"categories='auto'\".\n",
      "In case you used a LabelEncoder before this OneHotEncoder to convert the categories to integers, then you can now use the OneHotEncoder directly.\n",
      "  warnings.warn(msg, FutureWarning)\n"
     ]
    }
   ],
   "source": [
    "from sklearn.preprocessing import LabelEncoder\n",
    "from sklearn.preprocessing import OneHotEncoder\n",
    "target =['Sales']\n",
    "numeric_columns = ['Customers', 'Open','Promo','Promo2',\n",
    "                   'StateHoliday','SchoolHoliday','CompetitionDistance']\n",
    "categorical_columns =['DayOfWeek','Quarter','Month','Year',\n",
    "                      'StoreType','Assortment','Season']\n",
    "\n",
    "#Define a function that will intake the raw dataframe and the \n",
    "#column name and return a one hot encoded DF\n",
    "def create_one(df, col):\n",
    "    le = LabelEncoder()\n",
    "    a=le.fit_transform(df_new[col]).reshape(-1,1)\n",
    "    one = OneHotEncoder(sparse=False)\n",
    "    column_names = [col+ \"_\"+str(i) for i in le.classes_]\n",
    "    return(pd.DataFrame(one.fit_transform(a),columns=column_names))\n",
    "\n",
    "#Since the above function converts the column, one at a time \n",
    "#We create a loop to create the final dataset with all features\n",
    "\n",
    "temp = df_new[numeric_columns]\n",
    "for column in categorical_columns:\n",
    "    temp_df = create_one(df_new,column)\n",
    "    temp = pd.concat([temp,temp_df],axis=1)"
   ]
  },
  {
   "cell_type": "code",
   "execution_count": 34,
   "metadata": {},
   "outputs": [
    {
     "name": "stdout",
     "output_type": "stream",
     "text": [
      "Shape of Data: (1017209, 44)\n",
      "Distinct Datatypes: [dtype('int64') dtype('O') dtype('float64')]\n"
     ]
    }
   ],
   "source": [
    "print('Shape of Data:',temp.shape)\n",
    "print('Distinct Datatypes:',temp.dtypes.unique())"
   ]
  },
  {
   "cell_type": "code",
   "execution_count": 35,
   "metadata": {},
   "outputs": [
    {
     "name": "stdout",
     "output_type": "stream",
     "text": [
      "Index(['StateHoliday'], dtype='object')\n"
     ]
    }
   ],
   "source": [
    "print(temp.columns[temp.dtypes=='object'])"
   ]
  },
  {
   "cell_type": "code",
   "execution_count": 36,
   "metadata": {},
   "outputs": [
    {
     "data": {
      "text/plain": [
       "array(['0', 'a', 'b', 'c', 0], dtype=object)"
      ]
     },
     "execution_count": 36,
     "metadata": {},
     "output_type": "execute_result"
    }
   ],
   "source": [
    "temp['StateHoliday'].unique()"
   ]
  },
  {
   "cell_type": "code",
   "execution_count": 37,
   "metadata": {},
   "outputs": [
    {
     "data": {
      "text/plain": [
       "array([dtype('int64'), dtype('int32'), dtype('float64')], dtype=object)"
      ]
     },
     "execution_count": 37,
     "metadata": {},
     "output_type": "execute_result"
    }
   ],
   "source": [
    "temp['StateHoliday']=np.where(temp['StateHoliday']=='0',0,1)\n",
    "#One last checkof the data type\n",
    "temp.dtypes.unique()"
   ]
  },
  {
   "cell_type": "code",
   "execution_count": 38,
   "metadata": {},
   "outputs": [],
   "source": [
    "from sklearn.model_selection import train_test_split\n",
    "#Create train and test dataset with an 80:20 split\n",
    "x_train, x_test, y_train, y_test = train_test_split(temp, \n",
    "                                                    df_new[target],test_size=0.2,random_state=2018)\n",
    "\n",
    "#Further divide training dataset into train and validation dataset with an 90:10 split\n",
    "x_train, x_val, y_train, y_val = train_test_split(x_train,\n",
    "                                                  y_train,test_size=0.1,random_state=2018)"
   ]
  },
  {
   "cell_type": "code",
   "execution_count": 39,
   "metadata": {},
   "outputs": [
    {
     "name": "stdout",
     "output_type": "stream",
     "text": [
      "Shape of x_train: (732390, 44)\n",
      "Shape of x_val: (81377, 44)\n",
      "Shape of x_test: (203442, 44)\n",
      "Shape of y_train: (732390, 1)\n",
      "Shape of y_val: (81377, 1)\n",
      "Shape of y_test: (203442, 1)\n"
     ]
    }
   ],
   "source": [
    "#Check the sizes of all newly creatd datasets\n",
    "print('Shape of x_train:',x_train.shape)\n",
    "print('Shape of x_val:',x_val.shape)\n",
    "print('Shape of x_test:',x_test.shape)\n",
    "print('Shape of y_train:',y_train.shape)\n",
    "print('Shape of y_val:',y_val.shape)\n",
    "print('Shape of y_test:',y_test.shape)"
   ]
  },
  {
   "cell_type": "markdown",
   "metadata": {},
   "source": [
    "## Defining Model Baseline Performance ##"
   ]
  },
  {
   "cell_type": "code",
   "execution_count": 40,
   "metadata": {},
   "outputs": [
    {
     "name": "stdout",
     "output_type": "stream",
     "text": [
      "Average Sales : Sales    5773.099997\n",
      "dtype: float64\n"
     ]
    }
   ],
   "source": [
    "#calculate the average score of the train dataset\n",
    "mean_sales = y_train.mean()\n",
    "print('Average Sales :',mean_sales)"
   ]
  },
  {
   "cell_type": "code",
   "execution_count": 41,
   "metadata": {},
   "outputs": [
    {
     "name": "stdout",
     "output_type": "stream",
     "text": [
      "MAE for Test Data: 2883.587604303215\n"
     ]
    }
   ],
   "source": [
    "#Calculate the Mean Absolute Error on the test dataset\n",
    "print('MAE for Test Data:',abs(y_test - mean_sales).mean()[0])"
   ]
  },
  {
   "cell_type": "code",
   "execution_count": 42,
   "metadata": {},
   "outputs": [
    {
     "name": "stdout",
     "output_type": "stream",
     "text": [
      "Name: tensorflow\n",
      "Version: 2.0.0\n",
      "Summary: TensorFlow is an open source machine learning framework for everyone.\n",
      "Home-page: https://www.tensorflow.org/\n",
      "Author: Google Inc.\n",
      "Author-email: packages@tensorflow.org\n",
      "License: Apache 2.0\n",
      "Location: c:\\users\\administrator\\anaconda3\\lib\\site-packages\n",
      "Requires: opt-einsum, six, google-pasta, numpy, absl-py, protobuf, wrapt, keras-preprocessing, tensorboard, tensorflow-estimator, termcolor, gast, astor, grpcio, keras-applications, wheel\n",
      "Required-by: \n",
      "Note: you may need to restart the kernel to use updated packages.\n"
     ]
    }
   ],
   "source": [
    "pip show tensorflow"
   ]
  },
  {
   "cell_type": "code",
   "execution_count": 43,
   "metadata": {},
   "outputs": [
    {
     "name": "stdout",
     "output_type": "stream",
     "text": [
      "WARNING:tensorflow:Falling back from v2 loop because of error: Failed to find data adapter that can handle input: <class 'pandas.core.frame.DataFrame'>, <class 'NoneType'>\n",
      "Train on 732390 samples, validate on 81377 samples\n",
      "Epoch 1/10\n",
      "732390/732390 [==============================] - 27s 37us/sample - loss: 953.9640 - mean_absolute_error: 953.9626 - val_loss: 848.2420 - val_mean_absolute_error: 848.2413\n",
      "Epoch 2/10\n",
      "732390/732390 [==============================] - 27s 37us/sample - loss: 782.1988 - mean_absolute_error: 782.1980 - val_loss: 741.7373 - val_mean_absolute_error: 741.7374\n",
      "Epoch 3/10\n",
      "732390/732390 [==============================] - 27s 37us/sample - loss: 738.9147 - mean_absolute_error: 738.9156 - val_loss: 718.4122 - val_mean_absolute_error: 718.4121\n",
      "Epoch 4/10\n",
      "732390/732390 [==============================] - 27s 38us/sample - loss: 722.6762 - mean_absolute_error: 722.6770 - val_loss: 711.0182 - val_mean_absolute_error: 711.0173\n",
      "Epoch 5/10\n",
      "732390/732390 [==============================] - 27s 37us/sample - loss: 708.3209 - mean_absolute_error: 708.3207 - val_loss: 697.7807 - val_mean_absolute_error: 697.7811\n",
      "Epoch 6/10\n",
      "732390/732390 [==============================] - 27s 37us/sample - loss: 700.6073 - mean_absolute_error: 700.6069 - val_loss: 699.8450 - val_mean_absolute_error: 699.8449\n",
      "Epoch 7/10\n",
      "732390/732390 [==============================] - 27s 37us/sample - loss: 696.0824 - mean_absolute_error: 696.0815 - val_loss: 689.9291 - val_mean_absolute_error: 689.9285\n",
      "Epoch 8/10\n",
      "732390/732390 [==============================] - 27s 37us/sample - loss: 692.0814 - mean_absolute_error: 692.0792 - val_loss: 690.8414 - val_mean_absolute_error: 690.8411\n",
      "Epoch 9/10\n",
      "732390/732390 [==============================] - 27s 37us/sample - loss: 687.7518 - mean_absolute_error: 687.7522 - val_loss: 680.9527 - val_mean_absolute_error: 680.9523\n",
      "Epoch 10/10\n",
      "732390/732390 [==============================] - 27s 37us/sample - loss: 684.0788 - mean_absolute_error: 684.0786 - val_loss: 677.9753 - val_mean_absolute_error: 677.9752\n"
     ]
    },
    {
     "data": {
      "text/plain": [
       "<tensorflow.python.keras.callbacks.History at 0x2131d227788>"
      ]
     },
     "execution_count": 43,
     "metadata": {},
     "output_type": "execute_result"
    }
   ],
   "source": [
    "#Create Deep Neural Network Architecture\n",
    "from tensorflow.keras.models import Sequential\n",
    "from tensorflow.keras.layers import Dense,Dropout\n",
    "\n",
    "model = Sequential()\n",
    "model.add(Dense(150,input_dim = 44,activation='relu'))\n",
    "#The input_dim = 44, since the width of the training data=44\n",
    "\n",
    "model.add(Dense(1,activation = 'linear'))\n",
    "\n",
    "#Configure the model\n",
    "model.compile(optimizer='adam',loss='mean_absolute_error',\n",
    "              metrics=['mean_absolute_error'])\n",
    "\n",
    "#Train the model\n",
    "model.fit(x_train,y_train,validation_data=(x_val,y_val),epochs=10,batch_size=64)"
   ]
  },
  {
   "cell_type": "markdown",
   "metadata": {},
   "source": [
    "## Testing the Model Performance ##"
   ]
  },
  {
   "cell_type": "code",
   "execution_count": 44,
   "metadata": {},
   "outputs": [
    {
     "name": "stdout",
     "output_type": "stream",
     "text": [
      "WARNING:tensorflow:Falling back from v2 loop because of error: Failed to find data adapter that can handle input: <class 'pandas.core.frame.DataFrame'>, <class 'NoneType'>\n",
      "203442/203442 [==============================] - 6s 28us/sample - loss: 675.3520 - mean_absolute_error: 675.3522\n",
      "Metric  loss : 675.35\n",
      "Metric  mean_absolute_error : 675.35\n"
     ]
    }
   ],
   "source": [
    "#Use the model's evaluate method to predict and evaluate the test data datasets\n",
    "result = model.evaluate(x_test,y_test)\n",
    "\n",
    "#Print the results\n",
    "for i in range(len(model.metrics_names)):\n",
    "    print('Metric ',model.metrics_names[i],':',str(round(result[i],2)))"
   ]
  },
  {
   "cell_type": "code",
   "execution_count": 45,
   "metadata": {},
   "outputs": [
    {
     "name": "stdout",
     "output_type": "stream",
     "text": [
      "WARNING:tensorflow:Falling back from v2 loop because of error: Failed to find data adapter that can handle input: <class 'pandas.core.frame.DataFrame'>, <class 'NoneType'>\n",
      "Train on 732390 samples, validate on 81377 samples\n",
      "Epoch 1/10\n",
      "732390/732390 [==============================] - 40s 55us/sample - loss: 1726168.3876 - mean_absolute_error: 852.5092 - val_loss: 1319381.5042 - val_mean_absolute_error: 803.0526\n",
      "Epoch 2/10\n",
      "732390/732390 [==============================] - 38s 52us/sample - loss: 1149761.3656 - mean_absolute_error: 719.3669 - val_loss: 1024696.6326 - val_mean_absolute_error: 684.2634\n",
      "Epoch 3/10\n",
      "732390/732390 [==============================] - 39s 53us/sample - loss: 1088241.9874 - mean_absolute_error: 699.6951 - val_loss: 1003166.9284 - val_mean_absolute_error: 680.7869\n",
      "Epoch 4/10\n",
      "732390/732390 [==============================] - 39s 53us/sample - loss: 1046389.1618 - mean_absolute_error: 687.2712 - val_loss: 978214.9169 - val_mean_absolute_error: 676.4736\n",
      "Epoch 5/10\n",
      "732390/732390 [==============================] - 39s 53us/sample - loss: 1021918.1839 - mean_absolute_error: 679.0348 - val_loss: 1017103.8466 - val_mean_absolute_error: 689.1622\n",
      "Epoch 6/10\n",
      "732390/732390 [==============================] - 39s 53us/sample - loss: 998572.9767 - mean_absolute_error: 672.1890 - val_loss: 958904.0762 - val_mean_absolute_error: 669.2430\n",
      "Epoch 7/10\n",
      "732390/732390 [==============================] - 39s 53us/sample - loss: 976927.4913 - mean_absolute_error: 665.7635 - val_loss: 976342.7997 - val_mean_absolute_error: 664.5603\n",
      "Epoch 8/10\n",
      "732390/732390 [==============================] - 39s 53us/sample - loss: 962103.7217 - mean_absolute_error: 660.8461 - val_loss: 927531.1603 - val_mean_absolute_error: 655.8441\n",
      "Epoch 9/10\n",
      "732390/732390 [==============================] - 38s 52us/sample - loss: 943068.2617 - mean_absolute_error: 654.6948 - val_loss: 883708.4626 - val_mean_absolute_error: 641.5327\n",
      "Epoch 10/10\n",
      "732390/732390 [==============================] - 38s 51us/sample - loss: 923044.0742 - mean_absolute_error: 648.2364 - val_loss: 865511.3154 - val_mean_absolute_error: 634.5493\n",
      "Metric  loss : 675.35\n",
      "Metric  mean_absolute_error : 675.35\n"
     ]
    }
   ],
   "source": [
    "model = Sequential()\n",
    "model.add(Dense(150,input_dim = 44,activation='relu'))\n",
    "model.add(Dense(150,activation='relu'))\n",
    "model.add(Dense(150,activation='relu'))\n",
    "model.add(Dense(1,activation='linear'))\n",
    "\n",
    "model.compile(optimizer='adam',loss='mean_squared_error',metrics=['mean_absolute_error'])\n",
    "    \n",
    "history = model.fit(x_train,y_train, validation_data=(x_val,\n",
    "                                                      y_val),epochs=10,batch_size=64)\n",
    "              \n",
    "#result = model.evaluate(x_test,y_test)\n",
    "for i in range(len(model.metrics_names)):\n",
    "              print('Metric ',model.metrics_names[i],':',str(round(result[i],2)))"
   ]
  },
  {
   "cell_type": "code",
   "execution_count": 46,
   "metadata": {},
   "outputs": [
    {
     "name": "stdout",
     "output_type": "stream",
     "text": [
      "WARNING:tensorflow:Falling back from v2 loop because of error: Failed to find data adapter that can handle input: <class 'pandas.core.frame.DataFrame'>, <class 'NoneType'>\n",
      "Train on 732390 samples, validate on 81377 samples\n",
      "Epoch 1/15\n",
      "732390/732390 [==============================] - 47s 64us/sample - loss: 1700224.8795 - mean_absolute_error: 849.6396 - val_loss: 1098066.4486 - val_mean_absolute_error: 707.0048\n",
      "Epoch 2/15\n",
      "732390/732390 [==============================] - 47s 64us/sample - loss: 1168069.2653 - mean_absolute_error: 722.7904 - val_loss: 1164657.8307 - val_mean_absolute_error: 728.3818\n",
      "Epoch 3/15\n",
      "732390/732390 [==============================] - 47s 64us/sample - loss: 1100948.2921 - mean_absolute_error: 702.7517 - val_loss: 1062406.7399 - val_mean_absolute_error: 699.9434\n",
      "Epoch 4/15\n",
      "732390/732390 [==============================] - 48s 66us/sample - loss: 1067005.4666 - mean_absolute_error: 691.6472 - val_loss: 1040543.7226 - val_mean_absolute_error: 701.6769\n",
      "Epoch 5/15\n",
      "732390/732390 [==============================] - 47s 65us/sample - loss: 1041274.6805 - mean_absolute_error: 683.0488 - val_loss: 986930.9405 - val_mean_absolute_error: 681.9921\n",
      "Epoch 6/15\n",
      "732390/732390 [==============================] - 46s 63us/sample - loss: 1014994.3652 - mean_absolute_error: 675.2351 - val_loss: 958415.5314 - val_mean_absolute_error: 666.8524\n",
      "Epoch 7/15\n",
      "732390/732390 [==============================] - 46s 63us/sample - loss: 995994.4732 - mean_absolute_error: 670.5030 - val_loss: 928203.6953 - val_mean_absolute_error: 658.4511\n",
      "Epoch 8/15\n",
      "732390/732390 [==============================] - 46s 63us/sample - loss: 975057.5732 - mean_absolute_error: 664.0977 - val_loss: 927277.5852 - val_mean_absolute_error: 654.3366\n",
      "Epoch 9/15\n",
      "732390/732390 [==============================] - 47s 64us/sample - loss: 951819.0695 - mean_absolute_error: 657.3625 - val_loss: 982581.5430 - val_mean_absolute_error: 665.7499\n",
      "Epoch 10/15\n",
      "732390/732390 [==============================] - 47s 64us/sample - loss: 933186.6705 - mean_absolute_error: 651.2552 - val_loss: 914453.8528 - val_mean_absolute_error: 645.2328\n",
      "Epoch 11/15\n",
      "732390/732390 [==============================] - 46s 63us/sample - loss: 924206.3953 - mean_absolute_error: 648.0760 - val_loss: 876095.4180 - val_mean_absolute_error: 641.0743\n",
      "Epoch 12/15\n",
      "732390/732390 [==============================] - 47s 64us/sample - loss: 907622.5287 - mean_absolute_error: 642.1773 - val_loss: 852239.0765 - val_mean_absolute_error: 631.7272\n",
      "Epoch 13/15\n",
      "732390/732390 [==============================] - 46s 63us/sample - loss: 894513.8977 - mean_absolute_error: 637.5537 - val_loss: 883519.4222 - val_mean_absolute_error: 634.4265\n",
      "Epoch 14/15\n",
      "732390/732390 [==============================] - 47s 65us/sample - loss: 881165.0008 - mean_absolute_error: 631.7980 - val_loss: 974085.9970 - val_mean_absolute_error: 655.3506\n",
      "Epoch 15/15\n",
      "732390/732390 [==============================] - 51s 70us/sample - loss: 868501.8675 - mean_absolute_error: 627.1658 - val_loss: 895767.0669 - val_mean_absolute_error: 633.7329\n",
      "WARNING:tensorflow:Falling back from v2 loop because of error: Failed to find data adapter that can handle input: <class 'pandas.core.frame.DataFrame'>, <class 'NoneType'>\n",
      "203442/203442 [==============================] - 10s 48us/sample - loss: 898239.3450 - mean_absolute_error: 631.9217\n",
      "Metric  loss : 898239.35\n",
      "Metric  mean_absolute_error : 631.92\n"
     ]
    }
   ],
   "source": [
    "model = Sequential()\n",
    "model.add(Dense(150,input_dim = 44,activation='relu'))\n",
    "model.add(Dense(150,activation='relu'))\n",
    "model.add(Dense(150,activation='relu'))\n",
    "model.add(Dense(150,activation='relu'))\n",
    "model.add(Dense(150,activation='relu'))\n",
    "model.add(Dense(1,activation='linear'))\n",
    "\n",
    "model.compile(optimizer= 'adam',loss='mean_squared_error',metrics=['mean_absolute_error'])\n",
    "\n",
    "model.fit(x_train,y_train, validation_data=(x_val,y_val),epochs=15,batch_size=64)\n",
    "\n",
    "result = model.evaluate(x_test,y_test)\n",
    "for i in range(len(model.metrics_names)):\n",
    "    print('Metric ',model.metrics_names[i],':',str(round(result[i],2)))"
   ]
  },
  {
   "cell_type": "markdown",
   "metadata": {},
   "source": [
    "## Increasing the Number of Neurons"
   ]
  },
  {
   "cell_type": "code",
   "execution_count": 48,
   "metadata": {},
   "outputs": [
    {
     "name": "stdout",
     "output_type": "stream",
     "text": [
      "WARNING:tensorflow:Falling back from v2 loop because of error: Failed to find data adapter that can handle input: <class 'pandas.core.frame.DataFrame'>, <class 'NoneType'>\n",
      "Train on 732390 samples, validate on 81377 samples\n",
      "Epoch 1/15\n",
      "732390/732390 [==============================] - 30s 41us/sample - loss: 1708382.8036 - mean_absolute_error: 849.9536 - val_loss: 1167877.8961 - val_mean_absolute_error: 733.1002\n",
      "Epoch 2/15\n",
      "732390/732390 [==============================] - 31s 42us/sample - loss: 1136852.6611 - mean_absolute_error: 718.7028 - val_loss: 1014678.7699 - val_mean_absolute_error: 681.6028\n",
      "Epoch 3/15\n",
      "732390/732390 [==============================] - 31s 43us/sample - loss: 1079939.4513 - mean_absolute_error: 699.0041 - val_loss: 1028411.8944 - val_mean_absolute_error: 700.2500\n",
      "Epoch 4/15\n",
      "732390/732390 [==============================] - 32s 44us/sample - loss: 1052120.6730 - mean_absolute_error: 690.4438 - val_loss: 1000131.1838 - val_mean_absolute_error: 674.8772\n",
      "Epoch 5/15\n",
      "732390/732390 [==============================] - 32s 44us/sample - loss: 1034034.3823 - mean_absolute_error: 683.1228 - val_loss: 1010488.8078 - val_mean_absolute_error: 673.3397\n",
      "Epoch 6/15\n",
      "732390/732390 [==============================] - 32s 44us/sample - loss: 1012670.4703 - mean_absolute_error: 676.1708 - val_loss: 955627.6159 - val_mean_absolute_error: 659.5482\n",
      "Epoch 7/15\n",
      "732390/732390 [==============================] - 33s 45us/sample - loss: 1000350.5696 - mean_absolute_error: 671.8015 - val_loss: 1094172.0546 - val_mean_absolute_error: 701.3904\n",
      "Epoch 8/15\n",
      "732390/732390 [==============================] - 33s 45us/sample - loss: 985245.8764 - mean_absolute_error: 667.1481 - val_loss: 964146.6294 - val_mean_absolute_error: 659.7264\n",
      "Epoch 9/15\n",
      "732390/732390 [==============================] - 34s 46us/sample - loss: 968821.4547 - mean_absolute_error: 662.2360 - val_loss: 924815.3590 - val_mean_absolute_error: 651.9486\n",
      "Epoch 10/15\n",
      "732390/732390 [==============================] - 34s 46us/sample - loss: 957297.8481 - mean_absolute_error: 659.2512 - val_loss: 890339.4344 - val_mean_absolute_error: 643.4830\n",
      "Epoch 11/15\n",
      "732390/732390 [==============================] - 33s 45us/sample - loss: 941073.8299 - mean_absolute_error: 653.9119 - val_loss: 887771.0327 - val_mean_absolute_error: 641.6639\n",
      "Epoch 12/15\n",
      "732390/732390 [==============================] - 33s 45us/sample - loss: 928267.2610 - mean_absolute_error: 649.9320 - val_loss: 970085.7437 - val_mean_absolute_error: 670.7636\n",
      "Epoch 13/15\n",
      "732390/732390 [==============================] - 32s 44us/sample - loss: 919280.4339 - mean_absolute_error: 647.0267 - val_loss: 875599.6531 - val_mean_absolute_error: 638.9128\n",
      "Epoch 14/15\n",
      "732390/732390 [==============================] - 32s 43us/sample - loss: 911017.1597 - mean_absolute_error: 644.2856 - val_loss: 856927.9770 - val_mean_absolute_error: 631.2908\n",
      "Epoch 15/15\n",
      "732390/732390 [==============================] - 32s 44us/sample - loss: 906666.6925 - mean_absolute_error: 642.5485 - val_loss: 927848.4208 - val_mean_absolute_error: 649.6846\n",
      "WARNING:tensorflow:Falling back from v2 loop because of error: Failed to find data adapter that can handle input: <class 'pandas.core.frame.DataFrame'>, <class 'NoneType'>\n",
      "203442/203442 [==============================] - 6s 31us/sample - loss: 934128.6980 - mean_absolute_error: 647.4984\n",
      "Metric  loss : 934128.7\n",
      "Metric  mean_absolute_error : 647.5\n"
     ]
    }
   ],
   "source": [
    "model = Sequential()\n",
    "model.add(Dense(350,input_dim = 44, activation = 'relu'))\n",
    "model.add(Dense(350,activation = 'relu'))\n",
    "model.add(Dense(1,activation = 'linear'))\n",
    "\n",
    "model.compile(optimizer = 'adam', loss = 'mean_squared_error', metrics=['mean_absolute_error'])\n",
    "model.fit(x_train,y_train, validation_data=(x_val,y_val),epochs=15,batch_size=64)\n",
    "\n",
    "result = model.evaluate(x_test,y_test)\n",
    "for i in range(len(model.metrics_names)):\n",
    "    print('Metric ',model.metrics_names[i],':',str(round(result[i],2)))"
   ]
  },
  {
   "cell_type": "code",
   "execution_count": 51,
   "metadata": {},
   "outputs": [
    {
     "name": "stdout",
     "output_type": "stream",
     "text": [
      "WARNING:tensorflow:Falling back from v2 loop because of error: Failed to find data adapter that can handle input: <class 'pandas.core.frame.DataFrame'>, <class 'NoneType'>\n",
      "Train on 732390 samples, validate on 81377 samples\n",
      "Epoch 1/15\n",
      "732390/732390 [==============================] - 57s 78us/sample - loss: 1647401.2750 - mean_absolute_error: 844.8799 - val_loss: 1270561.8449 - val_mean_absolute_error: 775.2083\n",
      "Epoch 2/15\n",
      "732390/732390 [==============================] - 59s 80us/sample - loss: 1180202.4022 - mean_absolute_error: 727.8073 - val_loss: 1049211.8275 - val_mean_absolute_error: 692.9874\n",
      "Epoch 3/15\n",
      "732390/732390 [==============================] - 59s 81us/sample - loss: 1112213.9454 - mean_absolute_error: 706.8238 - val_loss: 1009980.8693 - val_mean_absolute_error: 676.5689\n",
      "Epoch 4/15\n",
      "732390/732390 [==============================] - 60s 82us/sample - loss: 1072753.0526 - mean_absolute_error: 693.3522 - val_loss: 1034756.1521 - val_mean_absolute_error: 678.4686\n",
      "Epoch 5/15\n",
      "732390/732390 [==============================] - 62s 85us/sample - loss: 1040633.1540 - mean_absolute_error: 683.3385 - val_loss: 1194461.6562 - val_mean_absolute_error: 717.6612\n",
      "Epoch 6/15\n",
      "732390/732390 [==============================] - 63s 86us/sample - loss: 1019480.3834 - mean_absolute_error: 677.1488 - val_loss: 1072049.8655 - val_mean_absolute_error: 689.4482\n",
      "Epoch 7/15\n",
      "732390/732390 [==============================] - 64s 88us/sample - loss: 990982.4141 - mean_absolute_error: 668.2707 - val_loss: 941174.1724 - val_mean_absolute_error: 655.0496\n",
      "Epoch 8/15\n",
      "732390/732390 [==============================] - 64s 87us/sample - loss: 970012.0865 - mean_absolute_error: 662.2787 - val_loss: 899085.2954 - val_mean_absolute_error: 642.0234\n",
      "Epoch 9/15\n",
      "732390/732390 [==============================] - 65s 89us/sample - loss: 951556.3766 - mean_absolute_error: 655.7762 - val_loss: 947156.7302 - val_mean_absolute_error: 668.0170\n",
      "Epoch 10/15\n",
      "732390/732390 [==============================] - 65s 88us/sample - loss: 929605.1705 - mean_absolute_error: 648.3499 - val_loss: 902496.9485 - val_mean_absolute_error: 655.2297\n",
      "Epoch 11/15\n",
      "732390/732390 [==============================] - 65s 88us/sample - loss: 914770.8218 - mean_absolute_error: 643.0226 - val_loss: 891924.5286 - val_mean_absolute_error: 647.5493\n",
      "Epoch 12/15\n",
      "732390/732390 [==============================] - 78s 107us/sample - loss: 894616.0261 - mean_absolute_error: 636.2525 - val_loss: 890650.9811 - val_mean_absolute_error: 643.5701\n",
      "Epoch 13/15\n",
      "732390/732390 [==============================] - 79s 108us/sample - loss: 878562.1763 - mean_absolute_error: 629.7500 - val_loss: 832366.0700 - val_mean_absolute_error: 620.2780\n",
      "Epoch 14/15\n",
      "732390/732390 [==============================] - 85s 116us/sample - loss: 864690.4787 - mean_absolute_error: 623.5862 - val_loss: 974290.4299 - val_mean_absolute_error: 666.1600\n",
      "Epoch 15/15\n",
      "732390/732390 [==============================] - 86s 117us/sample - loss: 852738.9802 - mean_absolute_error: 619.0879 - val_loss: 889474.8102 - val_mean_absolute_error: 626.7544\n",
      "WARNING:tensorflow:Falling back from v2 loop because of error: Failed to find data adapter that can handle input: <class 'pandas.core.frame.DataFrame'>, <class 'NoneType'>\n",
      "203442/203442 [==============================] - 14s 69us/sample - loss: 891970.6808 - mean_absolute_error: 623.1122\n",
      "Metric  loss : 891970.68\n",
      "Metric  mean_absolute_error : 623.11\n"
     ]
    }
   ],
   "source": [
    "from tensorflow.keras.callbacks import History\n",
    "history = History()\n",
    "\n",
    "model = Sequential()\n",
    "model.add(Dense(350,input_dim = 44,activation='relu'))\n",
    "model.add(Dense(350,activation='relu'))\n",
    "model.add(Dense(350,activation='relu'))\n",
    "model.add(Dense(350,activation='relu'))\n",
    "model.add(Dense(350,activation='relu'))\n",
    "model.add(Dense(1,activation='linear'))\n",
    "\n",
    "model.compile(optimizer='adam',loss='mean_squared_error',metrics=['mean_absolute_error'])\n",
    "\n",
    "model.fit(x_train,y_train,validation_data=(x_val,y_val),epochs=15,batch_size=64,callbacks=[history])\n",
    "\n",
    "result = model.evaluate(x_test,y_test)\n",
    "\n",
    "for i in range(len(model.metrics_names)):\n",
    "    print('Metric ',model.metrics_names[i],':',str(round(result[i],2)))"
   ]
  },
  {
   "cell_type": "markdown",
   "metadata": {},
   "source": [
    "## Plotting the Loss Metric Across Epochs"
   ]
  },
  {
   "cell_type": "code",
   "execution_count": 52,
   "metadata": {},
   "outputs": [
    {
     "name": "stderr",
     "output_type": "stream",
     "text": [
      "C:\\Users\\Administrator\\Anaconda3\\lib\\site-packages\\ipykernel_launcher.py:6: MatplotlibDeprecationWarning: Unrecognized location 'Upper right'. Falling back on 'best'; valid locations are\n",
      "\tbest\n",
      "\tupper right\n",
      "\tupper left\n",
      "\tlower left\n",
      "\tlower right\n",
      "\tright\n",
      "\tcenter left\n",
      "\tcenter right\n",
      "\tlower center\n",
      "\tupper center\n",
      "\tcenter\n",
      "This will raise an exception in 3.3.\n",
      "  \n"
     ]
    },
    {
     "data": {
      "image/png": "[encoded data removed]",
      "text/plain": [
       "<Figure size 432x288 with 1 Axes>"
      ]
     },
     "metadata": {},
     "output_type": "display_data"
    }
   ],
   "source": [
    "plt.plot(history.history['loss'])\n",
    "plt.plot(history.history['val_loss'])\n",
    "plt.title(\"Model's Training & Validation loss across epochs\")\n",
    "plt.ylabel('Loss')\n",
    "plt.xlabel('Epochs')\n",
    "plt.legend(['Train','Validation'],loc='Upper right')\n",
    "plt.show()"
   ]
  },
  {
   "cell_type": "markdown",
   "metadata": {},
   "source": [
    "## Testing the Model Manually "
   ]
  },
  {
   "cell_type": "code",
   "execution_count": 53,
   "metadata": {},
   "outputs": [
    {
     "name": "stdout",
     "output_type": "stream",
     "text": [
      "WARNING:tensorflow:Falling back from v2 loop because of error: Failed to find data adapter that can handle input: <class 'pandas.core.frame.DataFrame'>, <class 'NoneType'>\n",
      "        Actual Sales  Predicted Sales\n",
      "115563             0         1.618993\n",
      "832654             0         1.618993\n",
      "769112          2933      3126.505859\n",
      "350588          8602      7324.375977\n",
      "141556          6975      6365.845703\n",
      "84435           9239      8465.208984\n",
      "53018              0         1.618993\n",
      "262419             0         1.618993\n",
      "702267          5885      5377.610352\n",
      "981431             0         1.618993\n",
      "MSE : 891970.6854407355\n",
      "MAE : 623.1127498984013\n"
     ]
    }
   ],
   "source": [
    "#Manually predicting from the model, instead of using model's \n",
    "#evaluation function \n",
    "y_test['Prediction'] = model.predict(x_test)\n",
    "y_test.columns = ['Actual Sales','Predicted Sales']\n",
    "print(y_test.head(10))\n",
    "\n",
    "#Manually predicting from the model, instead of using model's\n",
    "#evaluate function\n",
    "from sklearn.metrics import mean_squared_error,mean_absolute_error\n",
    "print('MSE :',mean_squared_error(y_test['Actual Sales'].values,y_test['Predicted Sales'].values))\n",
    "print('MAE :',mean_absolute_error(y_test['Actual Sales'].values,y_test['Predicted Sales'].values))"
   ]
  },
  {
   "cell_type": "code",
   "execution_count": null,
   "metadata": {},
   "outputs": [],
   "source": []
  }
 ],
 "metadata": {
  "kernelspec": {
   "display_name": "Python 3",
   "language": "python",
   "name": "python3"
  },
  "language_info": {
   "codemirror_mode": {
    "name": "ipython",
    "version": 3
   },
   "file_extension": ".py",
   "mimetype": "text/x-python",
   "name": "python",
   "nbconvert_exporter": "python",
   "pygments_lexer": "ipython3",
   "version": "3.7.4"
  }
 },
 "nbformat": 4,
 "nbformat_minor": 2
}
